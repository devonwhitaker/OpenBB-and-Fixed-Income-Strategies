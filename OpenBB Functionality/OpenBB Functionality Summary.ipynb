{
 "cells": [
  {
   "cell_type": "markdown",
   "metadata": {},
   "source": [
    "# OpenBB Functionality Research"
   ]
  },
  {
   "cell_type": "markdown",
   "metadata": {},
   "source": [
    "### Importing OpenBB"
   ]
  },
  {
   "cell_type": "code",
   "execution_count": null,
   "metadata": {},
   "outputs": [],
   "source": [
    "from openbb import obb"
   ]
  },
  {
   "cell_type": "markdown",
   "metadata": {},
   "source": [
    "Depending on the data that is pulled through OpenBB modules/functions, they sometimes require API keys from the data providers"
   ]
  },
  {
   "cell_type": "code",
   "execution_count": null,
   "metadata": {},
   "outputs": [],
   "source": [
    "# OpenBB Login\n",
    "obb.account.login(email=\"email\", password=\"password\", remember_me=True)\n",
    "\n",
    "# FRED API Key\n",
    "obb.user.credentials.fred_api_key = \"API-KEY\""
   ]
  },
  {
   "cell_type": "markdown",
   "metadata": {},
   "source": [
    "All fixed income data can be accessed via the fixed_income module:\n",
    "\n",
    "obb.fixedincome"
   ]
  },
  {
   "cell_type": "code",
   "execution_count": 5,
   "metadata": {},
   "outputs": [
    {
     "name": "stdout",
     "output_type": "stream",
     "text": [
      "['__class__', '__delattr__', '__dict__', '__dir__', '__doc__', '__eq__', '__format__', '__ge__', '__getattribute__', '__getstate__', '__gt__', '__hash__', '__init__', '__init_subclass__', '__le__', '__lt__', '__module__', '__ne__', '__new__', '__reduce__', '__reduce_ex__', '__repr__', '__setattr__', '__sizeof__', '__str__', '__subclasshook__', '__weakref__', '_check_credentials', '_command_runner', '_get_provider', '_run', 'bond_indices', 'corporate', 'government', 'mortgage_indices', 'rate', 'sofr', 'spreads']\n"
     ]
    }
   ],
   "source": [
    "print(dir(obb.fixedincome))"
   ]
  },
  {
   "cell_type": "markdown",
   "metadata": {},
   "source": [
    "# Fixed Income Submodules\n",
    "\n",
    "## 1. Bond Indices\n",
    "- **Nothing Further**\n",
    "\n",
    "## 2. Corporate\n",
    "- **Bond Prices**\n",
    "- **Commercial Paper**\n",
    "- **HQM**\n",
    "- **ICE BofA**\n",
    "- **Moody's**\n",
    "- **Spot Rates**\n",
    "\n",
    "## 3. Government\n",
    "- **EU Yield Curve**\n",
    "- **TIPS Yields**\n",
    "- **Treasury Auctions**\n",
    "- **Treasury Prices**\n",
    "- **Treasury Rates**\n",
    "- **US Yield Curve**\n",
    "- **Yield Curve**\n",
    "\n",
    "## 4. Mortgage Indices\n",
    "- **Nothing Further**\n",
    "\n",
    "## 5. Rate\n",
    "- **Ameribor**\n",
    "- **DPCredit**\n",
    "- **ECB**\n",
    "- **EFFR**\n",
    "- **EFFR Forecast**\n",
    "- **ESTR**\n",
    "- **IORB**\n",
    "- **Overnight Bank Funding**\n",
    "- **SOFR**\n",
    "- **SONIA**\n",
    "\n",
    "## 6. SOFR\n",
    "- **Nothing Further**\n",
    "\n",
    "## 7. Spreads\n",
    "- **TCM**\n",
    "- **TCM EFFR**\n",
    "- **Treasury EFFR**"
   ]
  }
 ],
 "metadata": {
  "kernelspec": {
   "display_name": "Python 3",
   "language": "python",
   "name": "python3"
  },
  "language_info": {
   "codemirror_mode": {
    "name": "ipython",
    "version": 3
   },
   "file_extension": ".py",
   "mimetype": "text/x-python",
   "name": "python",
   "nbconvert_exporter": "python",
   "pygments_lexer": "ipython3",
   "version": "3.11.9"
  }
 },
 "nbformat": 4,
 "nbformat_minor": 2
}
